{
 "cells": [
  {
   "cell_type": "code",
   "execution_count": 1,
   "id": "e8c6dd73",
   "metadata": {},
   "outputs": [],
   "source": [
    "class parkingGarage:\n",
    "    def __init__(self, tickets, parkingSpaces,):\n",
    "        self.tickets = tickets\n",
    "        self.parkingSpaces = parkingSpaces\n",
    "        self.currentTicket = {'paid': False}\n",
    "    def take_ticket(self):\n",
    "        if len(self.tickets)>0 and len(self.parkingSpaces)>0:\n",
    "            self.currentTicket['paid']=False\n",
    "            self.tickets.pop()\n",
    "            self.parkingSpaces.pop()\n",
    "        else:\n",
    "            print('sorry there are more spaces')\n",
    "    def payforparking(self):\n",
    "        amount = input('Enter payment amount?')\n",
    "        amount=int(amount)\n",
    "        if type(amount)==int and amount>0:\n",
    "            print('tickets has been paid you have 15mins to leave')\n",
    "            self.currentTicket['paid']=True\n",
    "    def leaveGarage(self):\n",
    "        if self.currentTicket['paid']==True:\n",
    "            print('Thank You, have a nice day')\n",
    "        else: \n",
    "            amount = input('Enter payment amount?')\n",
    "            amount=int(amount)\n",
    "            if type(amount)==int and amount>0:\n",
    "                print('thank you have a nice day')\n",
    "        self.tickets.append('z')\n",
    "        self.parkingSpaces.append('c')\n",
    "                \n",
    "        "
   ]
  },
  {
   "cell_type": "code",
   "execution_count": 2,
   "id": "dc945694",
   "metadata": {},
   "outputs": [],
   "source": [
    "a=parkingGarage(['x','y','z'],['a','b','c'])"
   ]
  },
  {
   "cell_type": "code",
   "execution_count": 3,
   "id": "227f0e2d",
   "metadata": {},
   "outputs": [],
   "source": [
    "a.take_ticket()"
   ]
  },
  {
   "cell_type": "code",
   "execution_count": 4,
   "id": "ed88ca8b",
   "metadata": {},
   "outputs": [
    {
     "name": "stdout",
     "output_type": "stream",
     "text": [
      "Enter payment amount?5\n",
      "tickets has been paid you have 15mins to leave\n"
     ]
    }
   ],
   "source": [
    "a.payforparking()"
   ]
  },
  {
   "cell_type": "code",
   "execution_count": 6,
   "id": "efe7bee5",
   "metadata": {},
   "outputs": [
    {
     "name": "stdout",
     "output_type": "stream",
     "text": [
      "Thank You, have a nice day\n"
     ]
    }
   ],
   "source": [
    "a.leaveGarage()"
   ]
  }
 ],
 "metadata": {
  "kernelspec": {
   "display_name": "Python 3 (ipykernel)",
   "language": "python",
   "name": "python3"
  },
  "language_info": {
   "codemirror_mode": {
    "name": "ipython",
    "version": 3
   },
   "file_extension": ".py",
   "mimetype": "text/x-python",
   "name": "python",
   "nbconvert_exporter": "python",
   "pygments_lexer": "ipython3",
   "version": "3.9.12"
  }
 },
 "nbformat": 4,
 "nbformat_minor": 5
}
