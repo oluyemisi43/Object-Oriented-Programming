{
 "cells": [
  {
   "cell_type": "code",
   "execution_count": 2,
   "id": "e8c6dd73",
   "metadata": {},
   "outputs": [],
   "source": [
    "class parkingGarage:\n",
    "    def __init__(self, tickets, parkingSpaces,):\n",
    "        self.tickets = tickets\n",
    "        self.parkingSpaces = parkingSpaces\n",
    "        self.currentTicket = {'paid': False}\n",
    "    def take_ticket(self):\n",
    "        if len(self.tickets)>0 and len(self.parkingSpaces)>0:\n",
    "            self.currentTicket['paid']=False\n",
    "            self.tickets.pop()\n",
    "            self.parkingSpaces.pop()\n",
    "            print('you got a ticket')\n",
    "        else:\n",
    "            print('sorry there are more spaces')\n",
    "    def payforparking(self):\n",
    "        amount = input('Enter payment amount?')\n",
    "        amount=int(amount)\n",
    "        if type(amount)==int and amount>0:\n",
    "            print('tickets has been paid you have 15mins to leave')\n",
    "            self.currentTicket['paid']=True\n",
    "    def leaveGarage(self):\n",
    "        if self.currentTicket['paid']==True:\n",
    "            print('Thank You, have a nice day')\n",
    "        else: \n",
    "            amount = input('Enter payment amount?')\n",
    "            amount=int(amount)\n",
    "            if type(amount)==int and amount>0:\n",
    "                print('thank you have a nice day')\n",
    "        self.tickets.append('z')\n",
    "        self.parkingSpaces.append('c')\n",
    "                \n",
    "        "
   ]
  },
  {
   "cell_type": "code",
   "execution_count": 4,
   "id": "84b7ab20",
   "metadata": {},
   "outputs": [
    {
     "name": "stdout",
     "output_type": "stream",
     "text": [
      "welcome\n",
      "do you want a ticket,pay for parking, leave the garage? type ticket, pay, leave or exit: 10\n",
      "do you want a ticket,pay for parking, leave the garage? type ticket, pay, leave or exit: ticket\n",
      "do you want a ticket,pay for parking, leave the garage? type ticket, pay, leave or exit: pay\n",
      "Enter payment amount?5\n",
      "tickets has been paid you have 15mins to leave\n",
      "do you want a ticket,pay for parking, leave the garage? type ticket, pay, leave or exit: leave\n",
      "Thank You, have a nice day\n",
      "do you want a ticket,pay for parking, leave the garage? type ticket, pay, leave or exit: exit\n"
     ]
    }
   ],
   "source": [
    "print('welcome')\n",
    "a=parkingGarage(['x','y','z'],['a','b','c'])\n",
    "while True:\n",
    "    action=input('do you want a ticket,pay for parking, leave the garage? type ticket, pay, leave or exit: ')\n",
    "    if action == 'ticket':\n",
    "        a.take_ticket()\n",
    "    if action == 'pay':\n",
    "        a.payforparking()\n",
    "    if action == 'leave':\n",
    "        a.leaveGarage()\n",
    "    if action == 'exit': break   "
   ]
  }
 ],
 "metadata": {
  "kernelspec": {
   "display_name": "Python 3 (ipykernel)",
   "language": "python",
   "name": "python3"
  },
  "language_info": {
   "codemirror_mode": {
    "name": "ipython",
    "version": 3
   },
   "file_extension": ".py",
   "mimetype": "text/x-python",
   "name": "python",
   "nbconvert_exporter": "python",
   "pygments_lexer": "ipython3",
   "version": "3.9.12"
  }
 },
 "nbformat": 4,
 "nbformat_minor": 5
}
